{
 "cells": [
  {
   "cell_type": "markdown",
   "metadata": {},
   "source": [
    "# Data Cleaning : Handling Missing Values and Outlier Analyses "
   ]
  },
  {
   "cell_type": "code",
   "execution_count": 1,
   "metadata": {},
   "outputs": [],
   "source": [
    "import pandas as pd\n",
    "import matplotlib.pyplot as plt\n",
    "import numpy as np"
   ]
  },
  {
   "cell_type": "markdown",
   "metadata": {},
   "source": [
    "Using “landslide_data3_miss.csv” file that contains \n",
    "some missing values and “landslide_data3_original.csv”  the original file without \n",
    "any missing values"
   ]
  },
  {
   "cell_type": "code",
   "execution_count": 2,
   "metadata": {},
   "outputs": [
    {
     "data": {
      "text/html": [
       "<div>\n",
       "<style scoped>\n",
       "    .dataframe tbody tr th:only-of-type {\n",
       "        vertical-align: middle;\n",
       "    }\n",
       "\n",
       "    .dataframe tbody tr th {\n",
       "        vertical-align: top;\n",
       "    }\n",
       "\n",
       "    .dataframe thead th {\n",
       "        text-align: right;\n",
       "    }\n",
       "</style>\n",
       "<table border=\"1\" class=\"dataframe\">\n",
       "  <thead>\n",
       "    <tr style=\"text-align: right;\">\n",
       "      <th></th>\n",
       "      <th>dates</th>\n",
       "      <th>stationid</th>\n",
       "      <th>temperature</th>\n",
       "      <th>humidity</th>\n",
       "      <th>pressure</th>\n",
       "      <th>rain</th>\n",
       "      <th>lightavgw/o0</th>\n",
       "      <th>lightmax</th>\n",
       "      <th>moisture</th>\n",
       "    </tr>\n",
       "  </thead>\n",
       "  <tbody>\n",
       "    <tr>\n",
       "      <th>0</th>\n",
       "      <td>08-07-2018</td>\n",
       "      <td>t10</td>\n",
       "      <td>25.46875</td>\n",
       "      <td>82.18750</td>\n",
       "      <td>1036.346875</td>\n",
       "      <td>6.75</td>\n",
       "      <td>5.5000</td>\n",
       "      <td>4000.0</td>\n",
       "      <td>0.0000</td>\n",
       "    </tr>\n",
       "    <tr>\n",
       "      <th>1</th>\n",
       "      <td>09-07-2018</td>\n",
       "      <td>t10</td>\n",
       "      <td>26.19298</td>\n",
       "      <td>83.14912</td>\n",
       "      <td>1037.604386</td>\n",
       "      <td>1761.75</td>\n",
       "      <td>11.8448</td>\n",
       "      <td>4000.0</td>\n",
       "      <td>5.6930</td>\n",
       "    </tr>\n",
       "    <tr>\n",
       "      <th>2</th>\n",
       "      <td>10-07-2018</td>\n",
       "      <td>t10</td>\n",
       "      <td>25.17021</td>\n",
       "      <td>85.34043</td>\n",
       "      <td>1037.889362</td>\n",
       "      <td>652.50</td>\n",
       "      <td>8.7692</td>\n",
       "      <td>4000.0</td>\n",
       "      <td>NaN</td>\n",
       "    </tr>\n",
       "    <tr>\n",
       "      <th>3</th>\n",
       "      <td>11-07-2018</td>\n",
       "      <td>t10</td>\n",
       "      <td>NaN</td>\n",
       "      <td>87.68657</td>\n",
       "      <td>1036.857463</td>\n",
       "      <td>963.00</td>\n",
       "      <td>8.8358</td>\n",
       "      <td>4000.0</td>\n",
       "      <td>6.0373</td>\n",
       "    </tr>\n",
       "    <tr>\n",
       "      <th>4</th>\n",
       "      <td>12-07-2018</td>\n",
       "      <td>t10</td>\n",
       "      <td>24.06923</td>\n",
       "      <td>87.64615</td>\n",
       "      <td>1027.830769</td>\n",
       "      <td>254.25</td>\n",
       "      <td>274.6232</td>\n",
       "      <td>4333.0</td>\n",
       "      <td>31.2385</td>\n",
       "    </tr>\n",
       "  </tbody>\n",
       "</table>\n",
       "</div>"
      ],
      "text/plain": [
       "        dates stationid  temperature  humidity     pressure     rain  \\\n",
       "0  08-07-2018       t10     25.46875  82.18750  1036.346875     6.75   \n",
       "1  09-07-2018       t10     26.19298  83.14912  1037.604386  1761.75   \n",
       "2  10-07-2018       t10     25.17021  85.34043  1037.889362   652.50   \n",
       "3  11-07-2018       t10          NaN  87.68657  1036.857463   963.00   \n",
       "4  12-07-2018       t10     24.06923  87.64615  1027.830769   254.25   \n",
       "\n",
       "   lightavgw/o0  lightmax  moisture  \n",
       "0        5.5000    4000.0    0.0000  \n",
       "1       11.8448    4000.0    5.6930  \n",
       "2        8.7692    4000.0       NaN  \n",
       "3        8.8358    4000.0    6.0373  \n",
       "4      274.6232    4333.0   31.2385  "
      ]
     },
     "execution_count": 2,
     "metadata": {},
     "output_type": "execute_result"
    }
   ],
   "source": [
    "df = pd.read_csv(\"landslide_data3_miss.csv\")\n",
    "df.head()"
   ]
  },
  {
   "cell_type": "markdown",
   "metadata": {},
   "source": [
    "Plotting a graph of the attribute names (x-axis) with the number of missing values"
   ]
  },
  {
   "cell_type": "code",
   "execution_count": 4,
   "metadata": {},
   "outputs": [
    {
     "name": "stdout",
     "output_type": "stream",
     "text": [
      "No. of missing values in dates is 0\n",
      "No. of missing values in stationid is 19\n",
      "No. of missing values in temperature is 66\n",
      "No. of missing values in humidity is 45\n",
      "No. of missing values in pressure is 77\n",
      "No. of missing values in rain is 38\n",
      "No. of missing values in lightavgw/o0 is 47\n",
      "No. of missing values in lightmax is 31\n",
      "No. of missing values in moisture is 31\n"
     ]
    }
   ],
   "source": [
    "attributes = list(df.columns)\n",
    "values = []\n",
    "missing = df.isnull().sum(axis = 0)\n",
    "missing_df = pd.DataFrame(missing)\n",
    "for i in attributes:\n",
    "    print(\"No. of missing values in\",i,\"is\",missing_df.loc[i,0])\n",
    "    values.append(missing_df.loc[i,0])"
   ]
  },
  {
   "cell_type": "code",
   "execution_count": 5,
   "metadata": {},
   "outputs": [
    {
     "data": {
      "image/png": "[encoded data removed]",
      "text/plain": [
       "<Figure size 720x360 with 1 Axes>"
      ]
     },
     "metadata": {
      "needs_background": "light"
     },
     "output_type": "display_data"
    }
   ],
   "source": [
    "fig = plt.figure(figsize = (10, 5))\n",
    "plt.bar(attributes,values, color ='maroon',\n",
    "        width = 0.4)\n",
    " \n",
    "plt.xlabel(\"Attributes\")\n",
    "plt.ylabel(\"No. of Missing values\")\n",
    "plt.title(\"Missing Values in each attributes\")\n",
    "plt.show()"
   ]
  },
  {
   "cell_type": "markdown",
   "metadata": {},
   "source": [
    "With target attribute “stationid”, the total number of tuples deleted having missing value in the target \n",
    "attribute :-"
   ]
  },
  {
   "cell_type": "code",
   "execution_count": 14,
   "metadata": {},
   "outputs": [
    {
     "name": "stdout",
     "output_type": "stream",
     "text": [
      "Row number of deleted tuples : 10 14 170 174 215 259 266 283 338 383 408 414 415 416 462 731 733 737 741\n",
      "Total numbers of tuples deleted : 19\n"
     ]
    }
   ],
   "source": [
    "df1 = df.copy()\n",
    "has_nan = df1['stationid'].isnull()\n",
    "stationid_nan =  dict(df1['stationid'].loc[has_nan])\n",
    "row_has_nan = list(stationid_nan.keys())\n",
    "print(\"Row number of deleted tuples :\",*row_has_nan)\n",
    "print(\"Total numbers of tuples deleted :\",len(row_has_nan))\n",
    "df1 = df1.drop(row_has_nan)"
   ]
  },
  {
   "cell_type": "markdown",
   "metadata": {},
   "source": [
    "Deleting the tuples(rows) having equal to or more than one third of attributes with missing values:-"
   ]
  },
  {
   "cell_type": "code",
   "execution_count": 32,
   "metadata": {},
   "outputs": [
    {
     "name": "stdout",
     "output_type": "stream",
     "text": [
      "Total number of tuples to be deleted : 39\n",
      "No. of rows in original data : 945\n",
      "No. of rows remaining after dropping the tuples : 906\n"
     ]
    }
   ],
   "source": [
    "df2 = df.copy()\n",
    "dict_has_nan = dict(df2.isnull().sum(axis=1))\n",
    "indx = list(dict_has_nan.keys())\n",
    "no_nan = list(dict_has_nan.values())\n",
    "count = 0\n",
    "nan_rows = []\n",
    "for i in indx:\n",
    "    if no_nan[i]>=3: \n",
    "        nan_rows.append(i)\n",
    "        count +=1\n",
    "print(\"Total number of tuples to be deleted :\",count)\n",
    "#print(nan_rows)\n",
    "df2 = df2.drop(nan_rows)\n",
    "print(\"No. of rows in original data :\",len(df.index))\n",
    "print(\"No. of rows remaining after dropping the tuples :\",len(df2.index))"
   ]
  },
  {
   "cell_type": "code",
   "execution_count": 18,
   "metadata": {},
   "outputs": [
    {
     "name": "stdout",
     "output_type": "stream",
     "text": [
      "No. of missing values remaing in dates is 0\n",
      "No. of missing values remaing in stationid is 15\n",
      "No. of missing values remaing in temperature is 34\n",
      "No. of missing values remaing in humidity is 13\n",
      "No. of missing values remaing in pressure is 41\n",
      "No. of missing values remaing in rain is 7\n",
      "No. of missing values remaing in lightavgw/o0 is 15\n",
      "No. of missing values remaing in lightmax is 1\n",
      "No. of missing values remaing in moisture is 6\n"
     ]
    }
   ],
   "source": [
    "for i in attributes:\n",
    "    print(\"No. of missing values remaing in\",i,'is',df2[i].isnull().sum())"
   ]
  },
  {
   "cell_type": "markdown",
   "metadata": {},
   "source": [
    "Handling the Missing values"
   ]
  },
  {
   "cell_type": "markdown",
   "metadata": {},
   "source": [
    "Replacing the missing values by mean of their respective attribute"
   ]
  },
  {
   "cell_type": "code",
   "execution_count": 37,
   "metadata": {},
   "outputs": [
    {
     "name": "stdout",
     "output_type": "stream",
     "text": [
      "RMSE values for temperature is 0.71\n",
      "RMSE values for humidity is 0.83\n",
      "RMSE values for pressure is 4.50\n",
      "RMSE values for rain is 915.36\n",
      "RMSE values for lightavgw/o0 is 263.46\n",
      "RMSE values for lightmax is 310.94\n",
      "RMSE values for moisture is 3.01\n"
     ]
    },
    {
     "data": {
      "image/png": "[encoded data removed]",
      "text/plain": [
       "<Figure size 720x360 with 1 Axes>"
      ]
     },
     "metadata": {
      "needs_background": "light"
     },
     "output_type": "display_data"
    }
   ],
   "source": [
    "df3 = df2.copy()\n",
    "attributes_new = ['temperature', 'humidity', 'pressure', 'rain', 'lightavgw/o0', 'lightmax', 'moisture']\n",
    "for i in attributes_new: \n",
    "    mean_attr = df2[i].mean()\n",
    "    df3[i] = df3[i].fillna(mean_attr)\n",
    "\n",
    "df_original = pd.read_csv(\"landslide_data3_original.csv\")\n",
    "\n",
    "RMSE_value = []\n",
    "\n",
    "for i in attributes_new:\n",
    "    RMSE_value.append(((df_original[i] - df3[i]) ** 2).mean() ** .5)\n",
    "    print(\"RMSE values for\",i,\"is %1.2f\"%(((df_original[i] - df3[i]) ** 2).mean() ** .5))\n",
    "    \n",
    "fig = plt.figure(figsize = (10, 5))\n",
    "plt.bar(attributes_new,RMSE_value, color ='maroon',\n",
    "        width = 0.4)\n",
    " \n",
    "plt.xlabel(\"Attributes\")\n",
    "plt.ylabel(\"RMSE Values\")\n",
    "plt.title(\"RMSE Values for each attribute\")\n",
    "plt.show()\n"
   ]
  },
  {
   "cell_type": "markdown",
   "metadata": {},
   "source": [
    "Replace the missing values in each attribute using linear interpolation technique"
   ]
  },
  {
   "cell_type": "code",
   "execution_count": 38,
   "metadata": {},
   "outputs": [
    {
     "name": "stdout",
     "output_type": "stream",
     "text": [
      "RMSE values for temperature is 0.71\n",
      "RMSE values for humidity is 0.83\n",
      "RMSE values for pressure is 4.50\n",
      "RMSE values for rain is 915.36\n",
      "RMSE values for lightavgw/o0 is 263.46\n",
      "RMSE values for lightmax is 310.94\n",
      "RMSE values for moisture is 3.01\n"
     ]
    },
    {
     "data": {
      "image/png": "[encoded data removed]",
      "text/plain": [
       "<Figure size 720x360 with 1 Axes>"
      ]
     },
     "metadata": {
      "needs_background": "light"
     },
     "output_type": "display_data"
    }
   ],
   "source": [
    "df4 = df2.copy()\n",
    "for i in attributes_new:\n",
    "    df4[i] = df4[i].interpolate(method ='linear')\n",
    "\n",
    "RMSE_inter = []\n",
    "for i in attributes_new:\n",
    "    RMSE_inter.append(((df_original[i] - df4[i]) ** 2).mean() ** .5)\n",
    "    print(\"RMSE values for\",i,\"is %1.2f\"%(((df_original[i] - df4[i]) ** 2).mean() ** .5))\n",
    "    \n",
    "fig = plt.figure(figsize = (10, 5))\n",
    "plt.bar(attributes_new,RMSE_inter, color ='maroon',\n",
    "        width = 0.4)\n",
    " \n",
    "plt.xlabel(\"Attributes\")\n",
    "plt.ylabel(\"RMSE Values\")\n",
    "plt.title(\"RMSE Values for each attribute after interpolation\")\n",
    "plt.show()"
   ]
  },
  {
   "cell_type": "markdown",
   "metadata": {},
   "source": [
    "Outlier detection"
   ]
  },
  {
   "cell_type": "markdown",
   "metadata": {},
   "source": [
    "Boxplot of Rain and Temperature attribute"
   ]
  },
  {
   "cell_type": "code",
   "execution_count": 39,
   "metadata": {},
   "outputs": [
    {
     "data": {
      "image/png": "[encoded data removed]",
      "text/plain": [
       "<Figure size 720x360 with 1 Axes>"
      ]
     },
     "metadata": {
      "needs_background": "light"
     },
     "output_type": "display_data"
    },
    {
     "data": {
      "text/plain": [
       "[]"
      ]
     },
     "execution_count": 39,
     "metadata": {},
     "output_type": "execute_result"
    },
    {
     "data": {
      "image/png": "[encoded data removed]",
      "text/plain": [
       "<Figure size 720x360 with 1 Axes>"
      ]
     },
     "metadata": {
      "needs_background": "light"
     },
     "output_type": "display_data"
    }
   ],
   "source": [
    "fig = plt.figure(figsize =(10, 5))\n",
    "plt.title(\"Boxplot for temperature\")\n",
    "plt.boxplot(df4['temperature'])\n",
    "plt.xlabel(\"Temperature\")\n",
    "plt.show()\n",
    "\n",
    "\n",
    "fig = plt.figure(figsize =(10, 5))\n",
    "plt.title(\"Boxplot for Rain\")\n",
    "plt.boxplot(df4['rain'])\n",
    "plt.xlabel(\"Rain\")\n",
    "plt.semilogy()"
   ]
  },
  {
   "cell_type": "markdown",
   "metadata": {},
   "source": [
    "List of outliers in Temperature and Rain attribute"
   ]
  },
  {
   "cell_type": "code",
   "execution_count": 42,
   "metadata": {},
   "outputs": [
    {
     "name": "stdout",
     "output_type": "stream",
     "text": [
      "Row no. of outliers in rain :  12 14 16 27 58 135 144 168 199 200 201 206 322 323 324 630 631 632 636 637 638 693 694 696 697 699 702 704 705 711 741 742 743 744 748 749 750 751 752 753 754 755 756 757 758 759 760 761 762 763 764 765 766 767 768 769 770 772 773 774 775 776 777 778 779 780 781 782 783 785 789 790 791 792 793 794 795 796 798 799 800 801 802 803 825 826 827 828 829 831 835 836 840 841 842 843 846 847 851 853 854 855 856 857 858 859 862 863 864 865 866 867 868 870 871 872 873 874 875 876 877 878 879 883 884 885 886 887 888 889 890 891 892 893 894 895 896 897 898 899 900 901 902 903 904 905 906 907 908 909 910 911 912 913 914 915 916 917 918 919 920 923 924 925 926 927 928 929 930 931 933 934 935 936 937 938 939 940 941 942 943 944\n",
      "\n",
      "Row no. of outliers in Temperatures :  509 510 511 512 513 514 515 516 517 518\n"
     ]
    }
   ],
   "source": [
    "def outliers(x):  #Function for outliers\n",
    "    minimum=2.5*np.percentile(df4[x],25)-1.5*np.percentile(df4[x],75) #conditions for outliers\n",
    "    maximum=2.5*np.percentile(df4[x],75)-1.5*np.percentile(df4[x],25)\n",
    "    outliers_=pd.concat((df4[x][df4[x]< minimum],df4[x][df4[x]> maximum]))\n",
    "    return outliers_\n",
    "\n",
    "rain_out = list(outliers('rain').index)\n",
    "temp_out = list(outliers('temperature').index)\n",
    "print(\"Row no. of outliers in rain : \",*rain_out)\n",
    "print(\"\\nRow no. of outliers in Temperatures : \",*temp_out)"
   ]
  },
  {
   "cell_type": "code",
   "execution_count": 43,
   "metadata": {},
   "outputs": [
    {
     "name": "stdout",
     "output_type": "stream",
     "text": [
      "Boxplot after replacing outliers\n",
      "\n"
     ]
    },
    {
     "data": {
      "image/png": "[encoded data removed]",
      "text/plain": [
       "<Figure size 720x360 with 1 Axes>"
      ]
     },
     "metadata": {
      "needs_background": "light"
     },
     "output_type": "display_data"
    },
    {
     "data": {
      "text/plain": [
       "[]"
      ]
     },
     "execution_count": 43,
     "metadata": {},
     "output_type": "execute_result"
    },
    {
     "data": {
      "image/png": "[encoded data removed]",
      "text/plain": [
       "<Figure size 720x360 with 1 Axes>"
      ]
     },
     "metadata": {
      "needs_background": "light"
     },
     "output_type": "display_data"
    }
   ],
   "source": [
    "df4['rain'].replace(df4['rain'][rain_out],df4['rain'].median(),inplace=True)\n",
    "df4['temperature'].replace(df4['temperature'][temp_out],df4['temperature'].median(),inplace=True)\n",
    "\n",
    "print(\"Boxplot after replacing outliers\\n\")\n",
    "fig = plt.figure(figsize =(10, 5))\n",
    "plt.title(\"Boxplot for temperature after replacing outliers\")\n",
    "plt.boxplot(df4['temperature'])\n",
    "plt.xlabel(\"Temperature\")\n",
    "plt.show()\n",
    "\n",
    "\n",
    "fig = plt.figure(figsize =(10, 5))\n",
    "plt.title(\"Boxplot for Rain after replacing outliers\")\n",
    "plt.boxplot(df4['rain'])\n",
    "plt.xlabel(\"Rain\")\n",
    "plt.semilogy()"
   ]
  },
  {
   "cell_type": "code",
   "execution_count": null,
   "metadata": {},
   "outputs": [],
   "source": []
  }
 ],
 "metadata": {
  "kernelspec": {
   "display_name": "Python 3",
   "language": "python",
   "name": "python3"
  },
  "language_info": {
   "codemirror_mode": {
    "name": "ipython",
    "version": 3
   },
   "file_extension": ".py",
   "mimetype": "text/x-python",
   "name": "python",
   "nbconvert_exporter": "python",
   "pygments_lexer": "ipython3",
   "version": "3.8.3"
  }
 },
 "nbformat": 4,
 "nbformat_minor": 4
}
